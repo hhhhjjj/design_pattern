{
 "cells": [
  {
   "cell_type": "code",
   "execution_count": null,
   "metadata": {
    "collapsed": true
   },
   "outputs": [],
   "source": [
    "# 新需求的修改是增加新的代码而不是修改现有的代码，要打折了只是增加一个派生类\n",
    "# 先构建一个书的基类\n",
    "class Book(object):\n",
    "    def __init__(self, name, price, author):\n",
    "        self.name = name\n",
    "        self.price = price\n",
    "        self.author = author\n",
    "\n",
    "    def get_name(self):\n",
    "        pass\n",
    "\n",
    "    def get_price(self):\n",
    "        pass\n",
    "\n",
    "    def get_author(self):\n",
    "        pass\n",
    "\n",
    "    def get_book_info(self):\n",
    "        pass"
   ]
  },
  {
   "cell_type": "code",
   "execution_count": null,
   "metadata": {},
   "outputs": [],
   "source": [
    "# 然后再集成book来一个小说的类\n",
    "class NovelBook(Book):\n",
    "    def __init__(self, name, price, author):\n",
    "        super(NovelBook, self).__init__(name, price, author)\n",
    "\n",
    "    def get_name(self):\n",
    "        return self.name\n",
    "\n",
    "    def get_price(self):\n",
    "        return self.price\n",
    "\n",
    "    def get_author(self):\n",
    "        return self.author\n",
    "\n",
    "    def get_book_info(self):\n",
    "        return \"Book name: \" + self.get_name() + \"  Book author: \" + self.get_author() + \"  Book price: \" + str(self.get_price()/100.0) + \"元\""
   ]
  },
  {
   "cell_type": "code",
   "execution_count": null,
   "metadata": {},
   "outputs": [],
   "source": [
    "class OffNovelBook(NovelBook): ### 新增子类用于扩展 \n",
    "    def __init__(self, name, price, author):\n",
    "        super(OffNovelBook, self).__init__(name, price, author)\n",
    "\n",
    "    # def get_name(self):\n",
    "    #     return self.name\n",
    "\n",
    "    def get_price(self):\n",
    "        origin_price = super(OffNovelBook, self).get_price()\n",
    "        off_price = 0\n",
    "        if origin_price >= 5000:\n",
    "            off_price = origin_price * 0.8\n",
    "        #     在这设置打折\n",
    "        else:\n",
    "            off_price = origin_price * 0.9\n",
    "\n",
    "        return off_price\n",
    "\n",
    "    # def get_author(self):\n",
    "    #     return self.author\n",
    "\n",
    "    def get_book_info(self):\n",
    "        off_book_info = super(OffNovelBook, self).get_book_info()\n",
    "        return off_book_info"
   ]
  },
  {
   "cell_type": "code",
   "execution_count": null,
   "metadata": {},
   "outputs": [],
   "source": [
    "# 此处初始化区属于高层次模块因为业务需求变更也需要相应修改，但修改越少越好\n",
    "class BookStore(object):\n",
    "    def __init__(self):\n",
    "        self.book_list = []\n",
    "        self.book_list.append(OffNovelBook(\"西游记\", 3000, \"吴承恩\"))         \n",
    "        self.book_list.append(OffNovelBook(\"三国演义\", 6000, \"罗贯中\"))\n",
    "        self.book_list.append(OffNovelBook(\"红楼梦\", 8000, \"曹雪芹\"))\n",
    "\n",
    "    def sell(self, book):\n",
    "        print (\"Sell Info: {}\".format(book.get_book_info()))"
   ]
  },
  {
   "cell_type": "code",
   "execution_count": null,
   "metadata": {},
   "outputs": [],
   "source": [
    "if __name__ == '__main__':\n",
    "    book_store = BookStore()\n",
    "    for book in book_store.book_list:\n",
    "        book_store.sell(book)"
   ]
  },
  {
   "cell_type": "code",
   "execution_count": null,
   "metadata": {},
   "outputs": [],
   "source": []
  }
 ],
 "metadata": {
  "kernelspec": {
   "display_name": "Python 2",
   "language": "python",
   "name": "python2"
  },
  "language_info": {
   "codemirror_mode": {
    "name": "ipython",
    "version": 2
   },
   "file_extension": ".py",
   "mimetype": "text/x-python",
   "name": "python",
   "nbconvert_exporter": "python",
   "pygments_lexer": "ipython2",
   "version": "2.7.6"
  }
 },
 "nbformat": 4,
 "nbformat_minor": 0
}
